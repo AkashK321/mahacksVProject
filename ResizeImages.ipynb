{
 "cells": [
  {
   "cell_type": "code",
   "execution_count": 2,
   "metadata": {},
   "outputs": [],
   "source": [
    "import cv2\n",
    "import os"
   ]
  },
  {
   "cell_type": "code",
   "execution_count": 40,
   "metadata": {},
   "outputs": [],
   "source": [
    "size = 60\n",
    "folder = \"C:\\\\Users\\\\6sinclair2\\\\Akash\\\\Research Methods 10th\\\\big_trash_dataset\\\\valid\\\\trash\"\n",
    "\n",
    "for filename in os.listdir(folder):\n",
    "    img = cv2.imread(os.path.join(folder,filename))\n",
    "    img2 = cv2.resize(img,(size,size))\n",
    "    cv2.imwrite(\"C:\\\\Users\\\\6sinclair2\\\\Akash\\\\Research Methods 10th\\\\big_trash_dataset\\\\valid\\\\trash\\\\\"+filename,img2)\n",
    "    \n",
    "        \n",
    "\n"
   ]
  },
  {
   "cell_type": "code",
   "execution_count": null,
   "metadata": {},
   "outputs": [],
   "source": []
  }
 ],
 "metadata": {
  "kernelspec": {
   "display_name": "Python 3",
   "language": "python",
   "name": "python3"
  },
  "language_info": {
   "codemirror_mode": {
    "name": "ipython",
    "version": 3
   },
   "file_extension": ".py",
   "mimetype": "text/x-python",
   "name": "python",
   "nbconvert_exporter": "python",
   "pygments_lexer": "ipython3",
   "version": "3.6.8"
  }
 },
 "nbformat": 4,
 "nbformat_minor": 2
}
