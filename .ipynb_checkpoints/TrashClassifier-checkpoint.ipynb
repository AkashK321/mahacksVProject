{
 "cells": [
  {
   "cell_type": "code",
   "execution_count": 2,
   "metadata": {},
   "outputs": [],
   "source": [
    "import cv2\n",
    "from fastai.vision import *\n",
    "from fastai.imports import *\n",
    "import os\n",
    "import numpy as np\n",
    "import re"
   ]
  },
  {
   "cell_type": "code",
   "execution_count": 3,
   "metadata": {},
   "outputs": [],
   "source": [
    "path = 'C:\\\\Users\\\\6sinclair2\\\\Akash\\\\Research Methods 10th\\\\big_trash_dataset'\n",
    "learn = load_learner(path)"
   ]
  },
  {
   "cell_type": "code",
   "execution_count": 15,
   "metadata": {},
   "outputs": [
    {
     "name": "stdout",
     "output_type": "stream",
     "text": [
      "click enter to take picture\n",
      "0.9577\n",
      "cardboard 95.77%\n",
      "Was the classification correct? \n"
     ]
    }
   ],
   "source": [
    "input('click enter to take picture')\n",
    "cap = cv2.VideoCapture(0)\n",
    "\n",
    "\n",
    "while(True):\n",
    "    ret, frame = cap.read()\n",
    "    \n",
    "    cv2.imwrite(\"C:\\\\Users\\\\6sinclair2\\Akash\\\\Research Methods 10th\\\\ImgSavFolForClassifier\\\\frame.jpg\", frame)\n",
    "    \n",
    "    img3 = cv2.imread(\"C:\\\\Users\\\\6sinclair2\\Akash\\\\Research Methods 10th\\\\ImgSavFolForClassifier\\\\frame.jpg\")\n",
    "\n",
    "    #postimg = preimg[180:420, 305:440]\n",
    "    #240, 135\n",
    "\n",
    "    #cv2.imwrite(\"C:\\\\Users\\\\6sinclair2\\\\Akash\\\\MetroHacksLocal\\\\Frames\\\\frame.jpg\", postimg)\n",
    "\n",
    "    #postcropimg = cv2.imread(\"C:\\\\Users\\\\6sinclair2\\\\Akash\\\\MetroHacksLocal\\\\Frames\\\\frame.jpg\")\n",
    "\n",
    "    img2 = cv2.resize(img3,(60,60))\n",
    "\n",
    "    cv2.imshow('img', img2)\n",
    "    \n",
    "    if cv2.waitKey(1) & 0xFF == ord('s'):\n",
    "        cv2.imwrite('C:\\\\Users\\\\6sinclair2\\Akash\\\\Research Methods 10th\\\\ImgSavFolForClassifier\\\\frame.jpg', img2)\n",
    "        cv2.destroyAllWindows()\n",
    "        break\n",
    "        \n",
    "#preimg = cv2.imread(\"C:\\\\Users\\\\6sinclair2\\\\Akash\\\\MetroHacksLocal\\\\Frames\\\\frame.jpg\")\n",
    "\n",
    "#postimg = preimg[180:420, 305:440]\n",
    "#240, 135\n",
    "\n",
    "#cv2.imwrite(\"C:\\\\Users\\\\6sinclair2\\\\Akash\\\\MetroHacksLocal\\\\Frames\\\\frame.jpg\", postimg)\n",
    "\n",
    "#postcropimg = cv2.imread(\"C:\\\\Users\\\\6sinclair2\\\\Akash\\\\MetroHacksLocal\\\\Frames\\\\frame.jpg\")\n",
    "\n",
    "#img2 = cv2.resize(postcropimg,(60,60))\n",
    "\n",
    "#cv2.imshow('frame',img2)\n",
    "\n",
    "#cv2.imwrite(\"C:\\\\Users\\\\6sinclair2\\\\Akash\\\\MetroHacksLocal\\\\Frames\\\\frame.jpg\", img2)\n",
    "\n",
    "img = open_image('C:\\\\Users\\\\6sinclair2\\Akash\\\\Research Methods 10th\\\\ImgSavFolForClassifier\\\\frame.jpg')\n",
    "category,t,t_arr = learn.predict(img)\n",
    "if str(category) == 'cardboard':\n",
    "    label = 'cardboard'\n",
    "    x = 0\n",
    "elif str(category) == 'glass':\n",
    "    label = 'glass'\n",
    "    x = 1\n",
    "elif str(category) == 'metal':\n",
    "    label = 'metal'\n",
    "    x = 2\n",
    "elif str(category) == 'paper':\n",
    "    label = 'paper'\n",
    "    x = 3\n",
    "elif str(category) == 'plastic':\n",
    "    label = 'plastic'\n",
    "    x = 4\n",
    "elif str(category) == 'trash':\n",
    "    label = 'trash'\n",
    "    x = 5\n",
    "ProbArr = re.findall(\"\\d+\\.\\d+\", str(t_arr[x]))\n",
    "print(ProbArr[0])\n",
    "print(label + ' ' + str(float(ProbArr[0]) * 100) + '%')\n",
    "\n",
    "#if float(ProbArr[0]) < 0.6500:\n",
    " #   actualLabel = input('I am not sure, please input type of recyclable material here(cardboard, metal, glass, paper, plastic): ')\n",
    "  #  img = cv2.imread('C:\\\\Users\\\\6sinclair2\\Akash\\\\Research Methods 10th\\\\ImgSavFolForClassifier\\\\frame.jpg')\n",
    "   # imgName = input('what do you want to name the image? ')\n",
    "    #cv2.imwrite('C:\\\\Users\\\\6sinclair2\\\\Akash\\\\Research Methods 10th\\\\big_trash_dataset\\\\train\\\\' + actualLabel + '\\\\' + imgName + '.jpg', img)\n",
    "correct = input('Was the classification correct? y or n ')\n",
    "if correct == 'n':\n",
    "    actualLabel = input('I am not sure, please input type of recyclable material here(cardboard, metal, glass, paper, plastic): ')\n",
    "    img = cv2.imread('C:\\\\Users\\\\6sinclair2\\Akash\\\\Research Methods 10th\\\\ImgSavFolForClassifier\\\\frame.jpg')\n",
    "    imgName = input('what do you want to name the image? ')\n",
    "    cv2.imwrite('C:\\\\Users\\\\6sinclair2\\\\Akash\\\\Research Methods 10th\\\\big_trash_dataset\\\\train\\\\' + actualLabel + '\\\\' + imgName + '.jpg', img)\n",
    "    \n",
    "    \n",
    "\n"
   ]
  },
  {
   "cell_type": "code",
   "execution_count": null,
   "metadata": {},
   "outputs": [],
   "source": []
  }
 ],
 "metadata": {
  "kernelspec": {
   "display_name": "Python 3",
   "language": "python",
   "name": "python3"
  },
  "language_info": {
   "codemirror_mode": {
    "name": "ipython",
    "version": 3
   },
   "file_extension": ".py",
   "mimetype": "text/x-python",
   "name": "python",
   "nbconvert_exporter": "python",
   "pygments_lexer": "ipython3",
   "version": "3.6.8"
  }
 },
 "nbformat": 4,
 "nbformat_minor": 2
}
